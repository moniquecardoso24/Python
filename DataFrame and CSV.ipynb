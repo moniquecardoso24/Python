{
 "cells": [
  {
   "cell_type": "markdown",
   "metadata": {
    "id": "-gO88g8ZcPRI"
   },
   "source": [
    "# **DataFrame  and CSV - Pandas**"
   ]
  },
  {
   "cell_type": "markdown",
   "metadata": {
    "id": "5arl3ChJc6WQ"
   },
   "source": [
    "**Exercise 1**"
   ]
  },
  {
   "cell_type": "code",
   "execution_count": 1,
   "metadata": {
    "id": "K8plF04BYnRU"
   },
   "outputs": [],
   "source": [
    "# Import pandas as pd\n",
    "import pandas as pd\n",
    "\n",
    "#Pre-defined lists\n",
    "\n",
    "names = ['United States', 'Australia','Japan', 'India', 'Russia', 'Morocco','Egypt']\n",
    "dr = [True, False, False, False, True, True, True]\n",
    "cpc = [809, 731, 588, 18, 200, 70, 45]\n"
   ]
  },
  {
   "cell_type": "code",
   "execution_count": 2,
   "metadata": {
    "id": "8GBwHEPUZaBT"
   },
   "outputs": [],
   "source": [
    "#Create dictionary my_dict with three key: value, pairs: my_dict\n",
    "\n",
    "#key -> country -> names (value)\n",
    "#key -> 'drive_right -> dr (value)\n",
    "#key -> cars_per_cap -> cpc (value)\n",
    "\n",
    "my_dict = {'country': names, 'drive_right': dr, 'cars_per_cap': cpc}"
   ]
  },
  {
   "cell_type": "markdown",
   "metadata": {
    "id": "yLx-ljZRc1yS"
   },
   "source": [
    "**Exercise 2**"
   ]
  },
  {
   "cell_type": "code",
   "execution_count": 3,
   "metadata": {
    "id": "Ag3zsrvoaYt2"
   },
   "outputs": [],
   "source": [
    "#Build a DataFrame cars from my_dict: cars\n",
    "#Use pd.DataFrame to turn your dict into a DataFrame called cars\n",
    "\n",
    "cars = pd.DataFrame(my_dict)"
   ]
  },
  {
   "cell_type": "markdown",
   "metadata": {
    "id": "2YYjgXtQd-u6"
   },
   "source": [
    "Insert index for each state"
   ]
  },
  {
   "cell_type": "code",
   "execution_count": 4,
   "metadata": {
    "id": "WF6_rBn9cyrN"
   },
   "outputs": [],
   "source": [
    "#Definition of row_labels\n",
    "\n",
    "row_labels = ['US','AUS','JPN','IN','RU','MOR','EG']\n"
   ]
  },
  {
   "cell_type": "code",
   "execution_count": 5,
   "metadata": {
    "id": "K-Lpp_ftdRmV"
   },
   "outputs": [],
   "source": [
    "#Specify row labels of cars\n",
    "cars.index = row_labels"
   ]
  },
  {
   "cell_type": "code",
   "execution_count": 6,
   "metadata": {
    "colab": {
     "base_uri": "https://localhost:8080/"
    },
    "id": "A7ytjFBBaziK",
    "outputId": "02390d54-13ff-46f1-b686-f6964fcda3ed"
   },
   "outputs": [
    {
     "name": "stdout",
     "output_type": "stream",
     "text": [
      "           country  drive_right  cars_per_cap\n",
      "US   United States         True           809\n",
      "AUS      Australia        False           731\n",
      "JPN          Japan        False           588\n",
      "IN           India        False            18\n",
      "RU          Russia         True           200\n",
      "MOR        Morocco         True            70\n",
      "EG           Egypt         True            45\n"
     ]
    }
   ],
   "source": [
    "#Print cars and cars.index\n",
    "\n",
    "print(cars)"
   ]
  },
  {
   "cell_type": "markdown",
   "metadata": {
    "id": "dmqQQ6qhffKt"
   },
   "source": [
    "**Exercise 3**"
   ]
  },
  {
   "cell_type": "markdown",
   "metadata": {
    "id": "byIBLzEmfgze"
   },
   "source": [
    "CSV to DataFrame -> Putting data in a dictionary and building a DataFrame is not very efficient, if you do a lot of observations. In this case the data is available as files, one of those file types is the CSV(comma-separated values)"
   ]
  },
  {
   "cell_type": "markdown",
   "metadata": {},
   "source": [
    "The output of CSV is not entirely what we wanted. Use index_col  inside pd.read_csv() to specify which column in the CVS file should be used as a row label\n"
   ]
  },
  {
   "cell_type": "code",
   "execution_count": 7,
   "metadata": {
    "id": "IqJYn5vqglPy"
   },
   "outputs": [],
   "source": [
    "#Import the cars.csv data: cars\n",
    "\n",
    "#Convert to csv\n",
    "\n",
    "cars.to_csv('cars.csv')\n",
    "\n",
    "cars = pd.read_csv('cars.csv', index_col=0)  "
   ]
  },
  {
   "cell_type": "code",
   "execution_count": 8,
   "metadata": {
    "colab": {
     "base_uri": "https://localhost:8080/"
    },
    "id": "4ISjKM5TgyO_",
    "outputId": "dd871dd3-27d8-4643-8eeb-c2236af373c1"
   },
   "outputs": [
    {
     "name": "stdout",
     "output_type": "stream",
     "text": [
      "           country  drive_right  cars_per_cap\n",
      "US   United States         True           809\n",
      "AUS      Australia        False           731\n",
      "JPN          Japan        False           588\n",
      "IN           India        False            18\n",
      "RU          Russia         True           200\n",
      "MOR        Morocco         True            70\n",
      "EG           Egypt         True            45\n"
     ]
    }
   ],
   "source": [
    "#Print out cars\n",
    "print(cars)"
   ]
  },
  {
   "cell_type": "markdown",
   "metadata": {
    "id": "8Bo6vv5Oh2e4"
   },
   "source": [
    "**Exercise 4**"
   ]
  },
  {
   "cell_type": "code",
   "execution_count": 9,
   "metadata": {},
   "outputs": [],
   "source": [
    "# Print the columns: country and cars_per_cap"
   ]
  },
  {
   "cell_type": "code",
   "execution_count": 10,
   "metadata": {
    "colab": {
     "base_uri": "https://localhost:8080/"
    },
    "id": "5pSfIim7juFL",
    "outputId": "688aa41b-4e46-44a8-c0b6-659b01eb48da"
   },
   "outputs": [
    {
     "name": "stdout",
     "output_type": "stream",
     "text": [
      "               cars_per_cap\n",
      "country                    \n",
      "United States           809\n",
      "Australia               731\n",
      "Japan                   588\n",
      "India                    18\n",
      "Russia                  200\n",
      "Morocco                  70\n",
      "Egypt                    45\n"
     ]
    }
   ],
   "source": [
    "cars = pd.read_csv(\"cars.csv\", usecols = ['country','cars_per_cap'], index_col=0)   # usecols -> select columns\n",
    "print(cars)"
   ]
  }
 ],
 "metadata": {
  "colab": {
   "provenance": []
  },
  "kernelspec": {
   "display_name": "Python 3 (ipykernel)",
   "language": "python",
   "name": "python3"
  },
  "language_info": {
   "codemirror_mode": {
    "name": "ipython",
    "version": 3
   },
   "file_extension": ".py",
   "mimetype": "text/x-python",
   "name": "python",
   "nbconvert_exporter": "python",
   "pygments_lexer": "ipython3",
   "version": "3.9.13"
  }
 },
 "nbformat": 4,
 "nbformat_minor": 1
}
